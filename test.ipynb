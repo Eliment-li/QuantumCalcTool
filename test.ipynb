{
 "cells": [
  {
   "cell_type": "code",
   "execution_count": 120,
   "id": "initial_id",
   "metadata": {
    "collapsed": true,
    "ExecuteTime": {
     "end_time": "2024-06-05T14:02:11.665041900Z",
     "start_time": "2024-06-05T14:02:11.632646900Z"
    }
   },
   "outputs": [],
   "source": [
    "import numpy as np\n",
    "from pprint import pprint\n",
    "def kp(items):\n",
    "    result = items[0]\n",
    "    for i in range(1, len(items)):\n",
    "        result = np.kron(result, items[i])\n",
    "\n",
    "    # for e in result:\n",
    "    #     print(e, ',')\n",
    "    return result\n",
    "z = np.array([\n",
    "    [1,0],\n",
    "    [0,-1]\n",
    "])\n",
    "\n",
    "x = np.array([\n",
    "    [0,1],\n",
    "    [1,0]\n",
    "])\n",
    "\n",
    "p =  np.sqrt(1/2)*g+np.sqrt(1/2)*e\n",
    "m =  np.sqrt(1/2)*e\n",
    "e = np.array([0,1],dtype=int)\n",
    "g = np.array([1,0],dtype=int)\n"
   ]
  },
  {
   "cell_type": "code",
   "outputs": [
    {
     "name": "stdout",
     "output_type": "stream",
     "text": [
      "[ 0.25 -0.25  0.25 -0.25  0.25 -0.25  0.25 -0.25  0.25 -0.25  0.25 -0.25\n",
      "  0.25 -0.25  0.25 -0.25]\n",
      "[-0.25  0.25 -0.25  0.25 -0.25  0.25 -0.25  0.25 -0.25  0.25 -0.25  0.25\n",
      " -0.25  0.25 -0.25  0.25]\n",
      "[0.25 0.25 0.25 0.25 0.25 0.25 0.25 0.25 0.25 0.25 0.25 0.25 0.25 0.25\n",
      " 0.25 0.25]\n"
     ]
    }
   ],
   "source": [
    "\n",
    "measure_x = kp([x, x, x, x])\n",
    "\n",
    "psi_err = kp([p,p,p,z@p])\n",
    "psi = kp([p,p,p,p])\n",
    "\n",
    "print(psi_err)\n",
    "print(measure_x @ psi_err)\n",
    "print(measure_x @ psi)\n",
    "\n"
   ],
   "metadata": {
    "collapsed": false,
    "ExecuteTime": {
     "end_time": "2024-06-05T14:02:11.677053400Z",
     "start_time": "2024-06-05T14:02:11.654613500Z"
    }
   },
   "id": "635d0abede94a7ff",
   "execution_count": 121
  },
  {
   "cell_type": "code",
   "outputs": [
    {
     "name": "stdout",
     "output_type": "stream",
     "text": [
      "[1 0 0 0 0 0 0 0 0 0 0 0 0 0 0 0]\n",
      "[1 0 0 0 0 0 0 0 0 0 0 0 0 0 0 0]\n"
     ]
    }
   ],
   "source": [
    "measure_z = kp([z, z, z, z])\n",
    "fy_err = kp([g,g,g,z@g])\n",
    "fy = kp([g,g,g,g])\n",
    "\n",
    "print(fy)\n",
    "print(measure_z @ fy_err)\n"
   ],
   "metadata": {
    "collapsed": false,
    "ExecuteTime": {
     "end_time": "2024-06-05T14:02:11.707078600Z",
     "start_time": "2024-06-05T14:02:11.669039900Z"
    }
   },
   "id": "dd7eba5d8da85782",
   "execution_count": 122
  },
  {
   "cell_type": "code",
   "outputs": [],
   "source": [
    "\n",
    "    "
   ],
   "metadata": {
    "collapsed": false,
    "ExecuteTime": {
     "end_time": "2024-06-05T14:02:11.708076500Z",
     "start_time": "2024-06-05T14:02:11.684331400Z"
    }
   },
   "id": "bd24cb3d931d6589",
   "execution_count": 122
  }
 ],
 "metadata": {
  "kernelspec": {
   "display_name": "Python 3",
   "language": "python",
   "name": "python3"
  },
  "language_info": {
   "codemirror_mode": {
    "name": "ipython",
    "version": 2
   },
   "file_extension": ".py",
   "mimetype": "text/x-python",
   "name": "python",
   "nbconvert_exporter": "python",
   "pygments_lexer": "ipython2",
   "version": "2.7.6"
  }
 },
 "nbformat": 4,
 "nbformat_minor": 5
}
