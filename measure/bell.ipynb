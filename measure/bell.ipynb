{
 "cells": [
  {
   "metadata": {},
   "cell_type": "markdown",
   "source": "如何测量一个两比特系统",
   "id": "259b42b71452c82a"
  },
  {
   "metadata": {},
   "cell_type": "code",
   "outputs": [],
   "execution_count": 22,
   "source": [
    "import numpy as np\n",
    "from calc.kroneckerProduct import kroneckerProduct as kp\n",
    "import sympy as sp\n",
    "from sympy import sqrt, pprint\n",
    "from sympy import pprint\n",
    "from calc import matrix\n",
    "import constant as con\n",
    "\n",
    "h = con.H\n",
    "g = con.g\n",
    "e = con.e\n",
    "p = con.p\n",
    "m = con.m\n",
    "gg = con.g2\n",
    "ee = con.e2\n",
    "sqrt_1_2 = con.sqrt_1_2"
   ],
   "id": "initial_id"
  },
  {
   "metadata": {},
   "cell_type": "markdown",
   "source": "验证H门计算方式 $H\\otimes H|10\\rangle=H|1\\rangle\\otimes H|0\\rangle $",
   "id": "df010d17c0243a0a"
  },
  {
   "metadata": {},
   "cell_type": "code",
   "outputs": [
    {
     "name": "stdout",
     "output_type": "stream",
     "text": [
      "⎡1/2 ⎤\n",
      "⎢    ⎥\n",
      "⎢-1/2⎥\n",
      "⎢    ⎥\n",
      "⎢1/2 ⎥\n",
      "⎢    ⎥\n",
      "⎣-1/2⎦\n",
      "⎡1/2 ⎤\n",
      "⎢    ⎥\n",
      "⎢-1/2⎥\n",
      "⎢    ⎥\n",
      "⎢1/2 ⎥\n",
      "⎢    ⎥\n",
      "⎣-1/2⎦\n",
      "True\n"
     ]
    }
   ],
   "execution_count": 23,
   "source": [
    "state = kp(g,e)\n",
    "hh = kp(h,h)\n",
    "pprint(hh * state)\n",
    "pprint(kp(h*g,h*e))\n",
    "print(hh * state == kp(h*g,h*e))"
   ],
   "id": "f2928d61174fa74e"
  },
  {
   "metadata": {},
   "cell_type": "code",
   "outputs": [],
   "execution_count": 32,
   "source": "psy = sqrt_1_2*(kp(e,g)+kp(g,e))",
   "id": "77dd30000c880ee5"
  },
  {
   "metadata": {},
   "cell_type": "code",
   "outputs": [
    {
     "data": {
      "text/plain": [
       "Matrix([\n",
       "[ 2*1/2**(3/2)],\n",
       "[            0],\n",
       "[            0],\n",
       "[-2*1/2**(3/2)]])"
      ],
      "text/latex": "$\\displaystyle \\left[\\begin{matrix}2 \\cdot 1/2^{\\frac{3}{2}}\\\\0\\\\0\\\\- 2 \\cdot 1/2^{\\frac{3}{2}}\\end{matrix}\\right]$"
     },
     "execution_count": 33,
     "metadata": {},
     "output_type": "execute_result"
    }
   ],
   "execution_count": 33,
   "source": "hh * psy",
   "id": "a22dfba9f36a17dc"
  },
  {
   "metadata": {},
   "cell_type": "code",
   "outputs": [
    {
     "data": {
      "text/plain": [
       "Matrix([\n",
       "[ sqrt(1/2)],\n",
       "[         0],\n",
       "[         0],\n",
       "[-sqrt(1/2)]])"
      ],
      "text/latex": "$\\displaystyle \\left[\\begin{matrix}\\sqrt{1/2}\\\\0\\\\0\\\\- \\sqrt{1/2}\\end{matrix}\\right]$"
     },
     "execution_count": 34,
     "metadata": {},
     "output_type": "execute_result"
    }
   ],
   "execution_count": 34,
   "source": "sqrt_1_2 * (gg-ee)",
   "id": "c51b2893cd55d2be"
  },
  {
   "metadata": {},
   "cell_type": "code",
   "outputs": [
    {
     "data": {
      "text/plain": [
       "Matrix([\n",
       "[ sqrt(1/2)],\n",
       "[         0],\n",
       "[         0],\n",
       "[-sqrt(1/2)]])"
      ],
      "text/latex": "$\\displaystyle \\left[\\begin{matrix}\\sqrt{1/2}\\\\0\\\\0\\\\- \\sqrt{1/2}\\end{matrix}\\right]$"
     },
     "execution_count": 37,
     "metadata": {},
     "output_type": "execute_result"
    }
   ],
   "execution_count": 37,
   "source": [
    "xx = con.x2\n",
    "xx * hh * psy\n",
    "sqrt_1_2 * (gg-ee)"
   ],
   "id": "5f40312f346889f3"
  },
  {
   "metadata": {},
   "cell_type": "code",
   "outputs": [
    {
     "name": "stdout",
     "output_type": "stream",
     "text": [
      "⎡1 ⎤\n",
      "⎢  ⎥\n",
      "⎢0 ⎥\n",
      "⎢  ⎥\n",
      "⎢0 ⎥\n",
      "⎢  ⎥\n",
      "⎣-1⎦\n",
      "⎡  0  ⎤\n",
      "⎢     ⎥\n",
      "⎢2⋅1/2⎥\n",
      "⎢     ⎥\n",
      "⎢2⋅1/2⎥\n",
      "⎢     ⎥\n",
      "⎣  0  ⎦\n"
     ]
    }
   ],
   "execution_count": 38,
   "source": [
    "pp = kp(p,p)\n",
    "mm = kp(m,m)\n",
    "\n",
    "pprint(gg-ee)\n",
    "pprint(pp-mm)"
   ],
   "id": "c712adba54d8fd57"
  }
 ],
 "metadata": {
  "kernelspec": {
   "display_name": "Python 3",
   "language": "python",
   "name": "python3"
  },
  "language_info": {
   "codemirror_mode": {
    "name": "ipython",
    "version": 2
   },
   "file_extension": ".py",
   "mimetype": "text/x-python",
   "name": "python",
   "nbconvert_exporter": "python",
   "pygments_lexer": "ipython2",
   "version": "2.7.6"
  }
 },
 "nbformat": 4,
 "nbformat_minor": 5
}
