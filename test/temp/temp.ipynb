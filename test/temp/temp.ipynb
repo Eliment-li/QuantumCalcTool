{
 "cells": [
  {
   "cell_type": "code",
   "id": "initial_id",
   "metadata": {
    "collapsed": true,
    "ExecuteTime": {
     "end_time": "2024-09-10T08:26:46.625762Z",
     "start_time": "2024-09-10T08:26:45.950945Z"
    }
   },
   "source": [
    "import sympy as sp\n",
    "from sympy import pprint\n",
    "\n",
    "import constant as con\n",
    "from calc.kroneckerProduct import kroneckerProduct as kp\n",
    "\n",
    "from eigen import eigen\n",
    "x = con.pauli_X\n",
    "z = con.pauli_Z\n",
    "h = con.H\n",
    "p = con.p\n",
    "m = con.m\n",
    "e = con.e\n",
    "g = con.g\n",
    "coeff = con.k\n",
    "z4 = con.z4\n",
    "x4 = con.x4\n",
    "z2 = con.z2\n",
    "x2 = con.x2"
   ],
   "outputs": [],
   "execution_count": 1
  },
  {
   "metadata": {
    "ExecuteTime": {
     "end_time": "2024-09-10T08:28:22.749195Z",
     "start_time": "2024-09-10T08:28:22.743892Z"
    }
   },
   "cell_type": "code",
   "source": [
    "v1 = g.T * p * p.T * g\n",
    "v2 = g.T * m * m.T * g"
   ],
   "id": "12d0df524eeeb2f7",
   "outputs": [],
   "execution_count": 6
  },
  {
   "metadata": {
    "ExecuteTime": {
     "end_time": "2024-09-10T08:28:33.208548Z",
     "start_time": "2024-09-10T08:28:33.200013Z"
    }
   },
   "cell_type": "code",
   "source": "v1",
   "id": "e1c466fcdf0f0cbf",
   "outputs": [
    {
     "data": {
      "text/plain": [
       "Matrix([[1/2]])"
      ],
      "text/latex": "$\\displaystyle \\left[\\begin{matrix}1/2\\end{matrix}\\right]$"
     },
     "execution_count": 8,
     "metadata": {},
     "output_type": "execute_result"
    }
   ],
   "execution_count": 8
  },
  {
   "metadata": {
    "ExecuteTime": {
     "end_time": "2024-09-10T08:28:33.863081Z",
     "start_time": "2024-09-10T08:28:33.843710Z"
    }
   },
   "cell_type": "code",
   "source": "v2",
   "id": "ce968229dae0e080",
   "outputs": [
    {
     "data": {
      "text/plain": [
       "Matrix([[1/2]])"
      ],
      "text/latex": "$\\displaystyle \\left[\\begin{matrix}1/2\\end{matrix}\\right]$"
     },
     "execution_count": 9,
     "metadata": {},
     "output_type": "execute_result"
    }
   ],
   "execution_count": 9
  },
  {
   "metadata": {},
   "cell_type": "code",
   "outputs": [],
   "execution_count": null,
   "source": "",
   "id": "335dbc7826a44c3a"
  }
 ],
 "metadata": {
  "kernelspec": {
   "display_name": "Python 3",
   "language": "python",
   "name": "python3"
  },
  "language_info": {
   "codemirror_mode": {
    "name": "ipython",
    "version": 2
   },
   "file_extension": ".py",
   "mimetype": "text/x-python",
   "name": "python",
   "nbconvert_exporter": "python",
   "pygments_lexer": "ipython2",
   "version": "2.7.6"
  }
 },
 "nbformat": 4,
 "nbformat_minor": 5
}
